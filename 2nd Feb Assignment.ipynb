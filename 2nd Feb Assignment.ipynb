{
 "cells": [
  {
   "cell_type": "code",
   "execution_count": 4,
   "id": "8b6f376c-9093-421a-a302-0b1ffb98d007",
   "metadata": {},
   "outputs": [
    {
     "name": "stdout",
     "output_type": "stream",
     "text": [
      "sum: 10 \n",
      " product: 3628800\n"
     ]
    }
   ],
   "source": [
    "#Q2\n",
    "s = 0\n",
    "p = 1\n",
    "\n",
    "for i in range(1,11):\n",
    "    s = s + 1\n",
    "    p = p * i\n",
    "print('sum:',s,'\\n','product:',p)"
   ]
  },
  {
   "cell_type": "code",
   "execution_count": 13,
   "id": "5abcb89d-6439-4143-922e-82d57efa03fb",
   "metadata": {},
   "outputs": [
    {
     "name": "stdin",
     "output_type": "stream",
     "text": [
      "Units consumed 310\n"
     ]
    },
    {
     "name": "stdout",
     "output_type": "stream",
     "text": [
      "2250\n"
     ]
    }
   ],
   "source": [
    "#Q3\n",
    "bill = 0\n",
    "charges = 0\n",
    "units = int(input('Units consumed'))\n",
    "\n",
    "if units <= 100:\n",
    "    charges = 4.5\n",
    "    bill = units * charges\n",
    "    print(bill)\n",
    "    \n",
    "elif units <=200:\n",
    "    charges = 6\n",
    "    bill = 450 + ((units-100) * charges)\n",
    "    print(bill)\n",
    "\n",
    "elif units <= 300:\n",
    "    charges = 10\n",
    "    bill = 1050 + ((units-200) * charges)\n",
    "    print(bill)\n",
    "    \n",
    "else:\n",
    "    charges = 20\n",
    "    bill = 2050 + ((units-300) * charges)\n",
    "    print(bill)\n",
    "    "
   ]
  },
  {
   "cell_type": "code",
   "execution_count": 15,
   "id": "5ea939e0-3c25-488e-bd7c-14ce484577a0",
   "metadata": {},
   "outputs": [
    {
     "data": {
      "text/plain": [
       "[8,\n",
       " 64,\n",
       " 125,\n",
       " 216,\n",
       " 512,\n",
       " 1000,\n",
       " 1728,\n",
       " 2744,\n",
       " 3375,\n",
       " 4096,\n",
       " 5832,\n",
       " 8000,\n",
       " 10648,\n",
       " 13824,\n",
       " 15625,\n",
       " 17576,\n",
       " 21952,\n",
       " 27000,\n",
       " 32768,\n",
       " 39304,\n",
       " 42875,\n",
       " 46656,\n",
       " 54872,\n",
       " 64000,\n",
       " 74088,\n",
       " 85184,\n",
       " 91125,\n",
       " 97336,\n",
       " 110592,\n",
       " 125000,\n",
       " 140608,\n",
       " 157464,\n",
       " 166375,\n",
       " 175616,\n",
       " 195112,\n",
       " 216000,\n",
       " 238328,\n",
       " 262144,\n",
       " 274625,\n",
       " 287496,\n",
       " 314432,\n",
       " 343000,\n",
       " 373248,\n",
       " 405224,\n",
       " 421875,\n",
       " 438976,\n",
       " 474552,\n",
       " 512000,\n",
       " 551368,\n",
       " 592704,\n",
       " 614125,\n",
       " 636056,\n",
       " 681472,\n",
       " 729000,\n",
       " 778688,\n",
       " 830584,\n",
       " 857375,\n",
       " 884736,\n",
       " 941192,\n",
       " 1000000]"
      ]
     },
     "execution_count": 15,
     "metadata": {},
     "output_type": "execute_result"
    }
   ],
   "source": [
    "#Q4\n",
    "cube_div = []\n",
    "for i in range(1,101):\n",
    "    cube = i**3\n",
    "    if cube%4 == 0 or cube%5 ==0:\n",
    "        cube_div.append(cube)\n",
    "\n",
    "cube_div"
   ]
  },
  {
   "cell_type": "code",
   "execution_count": 18,
   "id": "791e6030-f9e0-4186-83d4-0c42eccb1ec8",
   "metadata": {},
   "outputs": [
    {
     "name": "stdout",
     "output_type": "stream",
     "text": [
      "11\n"
     ]
    }
   ],
   "source": [
    "#Q5\n",
    "string = \"I want to become a data scientist\"\n",
    "vowels = ['a','e','i','o','u']\n",
    "\n",
    "vowels_count = 0\n",
    "\n",
    "for i in vowels:\n",
    "    counts = string.count(i)\n",
    "    vowels_count += counts\n",
    "print(vowels_count)"
   ]
  }
 ],
 "metadata": {
  "kernelspec": {
   "display_name": "Python 3 (ipykernel)",
   "language": "python",
   "name": "python3"
  },
  "language_info": {
   "codemirror_mode": {
    "name": "ipython",
    "version": 3
   },
   "file_extension": ".py",
   "mimetype": "text/x-python",
   "name": "python",
   "nbconvert_exporter": "python",
   "pygments_lexer": "ipython3",
   "version": "3.10.8"
  }
 },
 "nbformat": 4,
 "nbformat_minor": 5
}
